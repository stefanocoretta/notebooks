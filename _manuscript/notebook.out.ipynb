{
 "cells": [
  {
   "cell_type": "markdown",
   "metadata": {},
   "source": [
    "# Test cross-ref and citations\n",
    "\n",
    "## Section\n",
    "\n",
    "This is a simple placeholder for the manuscript’s main document \\[@knuth84\\]. See @tbl-test.\n",
    "\n",
    "| Col1 | Col2 | Col3 |\n",
    "|------|------|------|\n",
    "| 1    | 2    | 3    |\n",
    "| 4    | 5    | 6    |\n",
    "| 7    | 8    | 9    |"
   ],
   "id": "e9d15e4d-73e8-4646-9236-17413af7a15a"
  }
 ],
 "nbformat": 4,
 "nbformat_minor": 5,
 "metadata": {}
}
